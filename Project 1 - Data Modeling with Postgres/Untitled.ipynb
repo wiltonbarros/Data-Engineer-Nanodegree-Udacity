{
 "cells": [
  {
   "cell_type": "code",
   "execution_count": 1,
   "metadata": {
    "editable": true
   },
   "outputs": [],
   "source": [
    "!python create_tables.py"
   ]
  },
  {
   "cell_type": "code",
   "execution_count": 2,
   "metadata": {
    "editable": true
   },
   "outputs": [
    {
     "name": "stdout",
     "output_type": "stream",
     "text": [
      "77 files found in data/song_data\n",
      "1/77 files processed.\n",
      "2/77 files processed.\n",
      "3/77 files processed.\n",
      "4/77 files processed.\n",
      "5/77 files processed.\n",
      "6/77 files processed.\n",
      "7/77 files processed.\n",
      "8/77 files processed.\n",
      "9/77 files processed.\n",
      "10/77 files processed.\n",
      "11/77 files processed.\n",
      "12/77 files processed.\n",
      "13/77 files processed.\n",
      "14/77 files processed.\n",
      "15/77 files processed.\n",
      "16/77 files processed.\n",
      "17/77 files processed.\n",
      "18/77 files processed.\n",
      "19/77 files processed.\n",
      "20/77 files processed.\n",
      "21/77 files processed.\n",
      "22/77 files processed.\n",
      "23/77 files processed.\n",
      "24/77 files processed.\n",
      "25/77 files processed.\n",
      "26/77 files processed.\n",
      "27/77 files processed.\n",
      "28/77 files processed.\n",
      "29/77 files processed.\n",
      "30/77 files processed.\n",
      "31/77 files processed.\n",
      "32/77 files processed.\n",
      "33/77 files processed.\n",
      "34/77 files processed.\n",
      "35/77 files processed.\n",
      "36/77 files processed.\n",
      "37/77 files processed.\n",
      "38/77 files processed.\n",
      "39/77 files processed.\n",
      "40/77 files processed.\n",
      "41/77 files processed.\n",
      "42/77 files processed.\n",
      "43/77 files processed.\n",
      "44/77 files processed.\n",
      "45/77 files processed.\n",
      "46/77 files processed.\n",
      "47/77 files processed.\n",
      "48/77 files processed.\n",
      "49/77 files processed.\n",
      "50/77 files processed.\n",
      "51/77 files processed.\n",
      "52/77 files processed.\n",
      "53/77 files processed.\n",
      "54/77 files processed.\n",
      "55/77 files processed.\n",
      "56/77 files processed.\n",
      "57/77 files processed.\n",
      "58/77 files processed.\n",
      "59/77 files processed.\n",
      "60/77 files processed.\n",
      "61/77 files processed.\n",
      "62/77 files processed.\n",
      "63/77 files processed.\n",
      "64/77 files processed.\n",
      "65/77 files processed.\n",
      "66/77 files processed.\n",
      "67/77 files processed.\n",
      "68/77 files processed.\n",
      "69/77 files processed.\n",
      "70/77 files processed.\n",
      "71/77 files processed.\n",
      "72/77 files processed.\n",
      "73/77 files processed.\n",
      "74/77 files processed.\n",
      "75/77 files processed.\n",
      "76/77 files processed.\n",
      "77/77 files processed.\n",
      "30 files found in data/log_data\n",
      "1/30 files processed.\n",
      "2/30 files processed.\n",
      "3/30 files processed.\n",
      "4/30 files processed.\n",
      "5/30 files processed.\n",
      "6/30 files processed.\n",
      "7/30 files processed.\n",
      "8/30 files processed.\n",
      "9/30 files processed.\n",
      "10/30 files processed.\n",
      "11/30 files processed.\n",
      "12/30 files processed.\n",
      "13/30 files processed.\n",
      "14/30 files processed.\n",
      "15/30 files processed.\n",
      "16/30 files processed.\n",
      "17/30 files processed.\n",
      "18/30 files processed.\n",
      "19/30 files processed.\n",
      "20/30 files processed.\n",
      "21/30 files processed.\n",
      "22/30 files processed.\n",
      "23/30 files processed.\n",
      "24/30 files processed.\n",
      "25/30 files processed.\n",
      "26/30 files processed.\n",
      "27/30 files processed.\n",
      "28/30 files processed.\n",
      "29/30 files processed.\n",
      "30/30 files processed.\n"
     ]
    }
   ],
   "source": [
    "!python etl.py"
   ]
  },
  {
   "cell_type": "code",
   "execution_count": null,
   "metadata": {
    "editable": true
   },
   "outputs": [],
   "source": []
  }
 ],
 "metadata": {
  "kernelspec": {
   "display_name": "Python 3",
   "language": "python",
   "name": "python3"
  },
  "language_info": {
   "codemirror_mode": {
    "name": "ipython",
    "version": 3
   },
   "file_extension": ".py",
   "mimetype": "text/x-python",
   "name": "python",
   "nbconvert_exporter": "python",
   "pygments_lexer": "ipython3",
   "version": "3.6.3"
  }
 },
 "nbformat": 4,
 "nbformat_minor": 4
}
